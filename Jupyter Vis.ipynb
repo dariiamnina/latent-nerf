{
 "cells": [
  {
   "cell_type": "code",
   "execution_count": 3,
   "id": "6b88a82b",
   "metadata": {},
   "outputs": [
    {
     "name": "stdout",
     "output_type": "stream",
     "text": [
      "True\n",
      "[15.50100033 14.24062522 15.41620285]\n",
      "Plot(antialias=3, axes=['x', 'y', 'z'], axes_helper=1.0, background_color=16777215, camera_animation=[], camera_fov=60.0, camera_mode='trackball', camera_pan_speed=0.3, camera_rotate_speed=1.0, camera_zoom_speed=1.2, fps=25.0, fps_meter=False, grid=[-0.55, -0.55, -0.55, 0.55, 0.55, 0.55], grid_color=15132390, grid_visible=False, height=512, label_color=4473924, lighting=1.5, manipulate_mode='translate', mode='view', name='points', object_ids=[2146893685576], screenshot_scale=2.0, snapshot_type='full')\n",
      "Output()\n"
     ]
    },
    {
     "name": "stderr",
     "output_type": "stream",
     "text": [
      "C:\\Users\\darii\\miniconda3\\envs\\ml3d\\lib\\site-packages\\traittypes\\traittypes.py:101: UserWarning: Given trait value dtype \"float32\" does not match required type \"float32\". A coerced copy has been created.\n",
      "  np.dtype(self.dtype).name))\n",
      "C:\\Users\\darii\\miniconda3\\envs\\ml3d\\lib\\site-packages\\traittypes\\traittypes.py:101: UserWarning: Given trait value dtype \"uint32\" does not match required type \"uint32\". A coerced copy has been created.\n",
      "  np.dtype(self.dtype).name))\n"
     ]
    }
   ],
   "source": [
    "!python ./shapenet/shape_normalization.py"
   ]
  },
  {
   "cell_type": "code",
   "execution_count": 6,
   "id": "b9ad693b",
   "metadata": {},
   "outputs": [
    {
     "ename": "ImportError",
     "evalue": "cannot import name 'visualize_mesh_from_file' from 'shapenet.visualization' (C:\\Users\\darii\\PyCharmProjects\\latent-nerf\\shapenet\\visualization.py)",
     "output_type": "error",
     "traceback": [
      "\u001b[1;31m---------------------------------------------------------------------------\u001b[0m",
      "\u001b[1;31mImportError\u001b[0m                               Traceback (most recent call last)",
      "\u001b[1;32m~\\AppData\\Local\\Temp/ipykernel_8804/590952679.py\u001b[0m in \u001b[0;36m<module>\u001b[1;34m\u001b[0m\n\u001b[1;32m----> 1\u001b[1;33m \u001b[1;32mfrom\u001b[0m \u001b[0mshapenet\u001b[0m\u001b[1;33m.\u001b[0m\u001b[0mvisualization\u001b[0m \u001b[1;32mimport\u001b[0m \u001b[0mvisualize_mesh_from_file\u001b[0m\u001b[1;33m\u001b[0m\u001b[1;33m\u001b[0m\u001b[0m\n\u001b[0m\u001b[0;32m      2\u001b[0m \u001b[0mvisualize_mesh_from_file\u001b[0m\u001b[1;33m(\u001b[0m\u001b[1;34m''\u001b[0m\u001b[1;33m)\u001b[0m\u001b[1;33m\u001b[0m\u001b[1;33m\u001b[0m\u001b[0m\n",
      "\u001b[1;31mImportError\u001b[0m: cannot import name 'visualize_mesh_from_file' from 'shapenet.visualization' (C:\\Users\\darii\\PyCharmProjects\\latent-nerf\\shapenet\\visualization.py)"
     ]
    }
   ],
   "source": [
    "from shapenet.visualization import visualize_mesh_from_file\n",
    "visualize_mesh_from_file('')"
   ]
  }
 ],
 "metadata": {
  "kernelspec": {
   "display_name": "Python 3 (ipykernel)",
   "language": "python",
   "name": "python3"
  },
  "language_info": {
   "codemirror_mode": {
    "name": "ipython",
    "version": 3
   },
   "file_extension": ".py",
   "mimetype": "text/x-python",
   "name": "python",
   "nbconvert_exporter": "python",
   "pygments_lexer": "ipython3",
   "version": "3.7.11"
  }
 },
 "nbformat": 4,
 "nbformat_minor": 5
}
